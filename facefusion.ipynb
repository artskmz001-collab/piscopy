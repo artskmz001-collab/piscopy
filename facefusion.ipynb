{
  "cells": [
    {
      "cell_type": "markdown",
      "metadata": {
        "id": "hgVreYca3LcQ"
      },
      "source": [
        "FaceFusion 2.0.0"
      ]
    },
    {
      "cell_type": "markdown",
      "source": [],
      "metadata": {
        "id": "5VyPp2IXAEzI"
      }
    },
    {
      "cell_type": "markdown",
      "metadata": {
        "id": "28qKtK7F3bzl"
      },
      "source": [
        "Install"
      ]
    },
    {
      "cell_type": "code",
      "execution_count": 4,
      "metadata": {
        "id": "ZlrnUA3i3gMB",
        "colab": {
          "base_uri": "https://localhost:8080/"
        },
        "outputId": "0c789314-a25b-4e9b-fa53-fb7201771174"
      },
      "outputs": [
        {
          "output_type": "stream",
          "name": "stdout",
          "text": [
            "fatal: destination path 'facefusion' already exists and is not an empty directory.\n",
            "/content/facefusion\n",
            "usage: install.py [-h]\n",
            "                  [--onnxruntime {default,cuda-12.2,cuda-11.8,openvino,rocm-5.4.2,rocm-5.6}]\n",
            "                  [--skip-conda] [-v]\n",
            "install.py: error: argument --onnxruntime: invalid choice: 'cuda' (choose from default, cuda-12.2, cuda-11.8, openvino, rocm-5.4.2, rocm-5.6)\n"
          ]
        }
      ],
      "source": [
        "!git clone https://github.com/AWMANW/facefusion\n",
        "%cd /content/facefusion\n",
        "!python install.py --torch cuda --onnxruntime cuda"
      ]
    },
    {
      "cell_type": "markdown",
      "metadata": {
        "id": "J6HT5NpVcZOC"
      },
      "source": [
        "Setup"
      ]
    },
    {
      "cell_type": "code",
      "execution_count": 5,
      "metadata": {
        "id": "YVHiNI-bb6IB",
        "colab": {
          "base_uri": "https://localhost:8080/"
        },
        "outputId": "6f9b2d52-742c-42e1-dd88-faed85ef2f75"
      },
      "outputs": [
        {
          "output_type": "stream",
          "name": "stdout",
          "text": [
            "/root/.ssh/id_rsa already exists.\n",
            "Overwrite (y/n)? # remote.moe:22 SSH-2.0-Go\n"
          ]
        }
      ],
      "source": [
        "!ssh-keygen -q -t rsa -N '' -f ~/.ssh/id_rsa <<<y\n",
        "!ssh-keyscan -t rsa remote.moe >> ~/.ssh/known_hosts"
      ]
    },
    {
      "cell_type": "markdown",
      "metadata": {
        "id": "vsfWtUCSGrrl"
      },
      "source": [
        "Run"
      ]
    },
    {
      "cell_type": "code",
      "execution_count": 6,
      "metadata": {
        "id": "YVHiNI-bb6IA",
        "colab": {
          "base_uri": "https://localhost:8080/"
        },
        "outputId": "52e92b44-b15f-4ee9-ca7f-4388a9e32520"
      },
      "outputs": [
        {
          "output_type": "stream",
          "name": "stdout",
          "text": [
            "/content/facefusion\n",
            "Traceback (most recent call last):\n",
            "  File \"/content/facefusion/run.py\", line 3, in <module>\n",
            "    from facefusion import core\n",
            "  File \"/content/facefusion/facefusion/core.py\", line 10, in <module>\n",
            "    import onnxruntime\n",
            "ModuleNotFoundError: No module named 'onnxruntime'\n",
            "Hello!\n",
            "remote.moe (the service) is closed down until a viable authentication scheme is implemented\n",
            "\n",
            "https://github.com/fasmide/remotemoe/discussions/14\n",
            "Connection to remote.moe closed by remote host.\n",
            "Connection to remote.moe closed.\n"
          ]
        }
      ],
      "source": [
        "%cd /content/facefusion\n",
        "!python run.py --execution-providers cuda & ssh -R 80:localhost:7860 remote.moe"
      ]
    }
  ],
  "metadata": {
    "accelerator": "GPU",
    "colab": {
      "provenance": []
    },
    "kernelspec": {
      "display_name": "Python",
      "name": "python3"
    },
    "language_info": {
      "name": "python"
    }
  },
  "nbformat": 4,
  "nbformat_minor": 0
}